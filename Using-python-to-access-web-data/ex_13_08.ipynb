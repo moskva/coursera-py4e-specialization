{
 "cells": [
  {
   "cell_type": "markdown",
   "metadata": {},
   "source": [
    "# Exercise\n",
    "\n",
    "## Extracting Data from JSON\n",
    "\n",
    "In this assignment you will write a Python program somewhat similar to http://www.py4e.com/code3/json2.py. The program will prompt for a URL, read the JSON data from that URL using urllib and then parse and extract the comment counts from the JSON data, compute the sum of the numbers in the file and enter the sum below:\n",
    "\n",
    "We provide two files for this assignment. One is a sample file where we give you the sum for your testing and the other is the actual data you need to process for the assignment.\n",
    "\n",
    "- Sample data: http://py4e-data.dr-chuck.net/comments_42.json (Sum=2553)\n",
    "- Actual data: http://py4e-data.dr-chuck.net/comments_2127282.json (Sum ends with 45)\n",
    "\n",
    "You do not need to save these files to your folder since your program will read the data directly from the URL. Note: Each student will have a distinct data url for the assignment - so only use your own data url for analysis.\n",
    "\n",
    "### Data Format\n",
    "The data consists of a number of names and comment counts in JSON as follows:\n",
    "```\n",
    "{\n",
    "  comments: [\n",
    "    {\n",
    "      name: \"Matthias\"\n",
    "      count: 97\n",
    "    },\n",
    "    {\n",
    "      name: \"Geomer\"\n",
    "      count: 97\n",
    "    }\n",
    "    ...\n",
    "  ]\n",
    "}\n",
    "```\n",
    "\n",
    "The closest sample code that shows how to parse JSON and extract a list is json2.py. You might also want to look at xml3.py to see how to prompt for a URL and retrieve data from a URL.\n",
    "\n",
    "### Sample Execution\n",
    "```\n",
    "$ python3 solution.py\n",
    "Enter location: http://py4e-data.dr-chuck.net/comments_42.json\n",
    "Retrieving http://py4e-data.dr-chuck.net/comments_42.json\n",
    "Retrieved 2733 characters\n",
    "Count: 50\n",
    "Sum: 2...\n",
    "```\n",
    "\n",
    "## Expected Output\n",
    "ends with 45"
   ]
  },
  {
   "cell_type": "code",
   "execution_count": 27,
   "metadata": {},
   "outputs": [
    {
     "name": "stdout",
     "output_type": "stream",
     "text": [
      "Retrieving http://py4e-data.dr-chuck.net/comments_42.json\n",
      "Received 2711 characters\n",
      "Count: 50\n",
      "Sum: 2553\n"
     ]
    }
   ],
   "source": [
    "# My Solution for Testing\n",
    "import urllib.request, ssl, json\n",
    "\n",
    "# Ignore SSL certificate errors\n",
    "ctx = ssl.create_default_context()\n",
    "ctx.check_hostname = False\n",
    "ctx.verify_mode = ssl.CERT_NONE\n",
    "\n",
    "url = input(\"Enter location: \")\n",
    "if not url:\n",
    "  url = \"http://py4e-data.dr-chuck.net/comments_42.json\"\n",
    "print(\"Retrieving\", url)\n",
    "\n",
    "data = urllib.request.urlopen(url, context=ctx).read()\n",
    "print(\"Received\", len(data), \"characters\")\n",
    "\n",
    "info = json.loads(data)['comments']\n",
    "counts = 0\n",
    "total = 0\n",
    "for item in info:\n",
    "  if item['name']:\n",
    "    counts += 1\n",
    "    total += int(item['count'])\n",
    "\n",
    "print(f'Count: {counts}')\n",
    "print(f\"Sum: {total}\")"
   ]
  },
  {
   "cell_type": "code",
   "execution_count": 29,
   "metadata": {},
   "outputs": [
    {
     "name": "stdout",
     "output_type": "stream",
     "text": [
      "Retrieving http://py4e-data.dr-chuck.net/comments_2127282.json\n",
      "Received 2767 characters\n",
      "[{'name': 'Leah', 'count': 99}, {'name': 'Oliver', 'count': 98}, {'name': 'Hayleigh', 'count': 98}, {'name': 'Kiyaleigh', 'count': 97}, {'name': 'Keeyra', 'count': 97}, {'name': 'Halina', 'count': 93}, {'name': 'Rihab', 'count': 89}, {'name': 'Franklin', 'count': 86}, {'name': 'Emilija', 'count': 85}, {'name': 'Kaileb', 'count': 82}, {'name': 'Frederick', 'count': 81}, {'name': 'Zaineddine', 'count': 76}, {'name': 'Leo', 'count': 76}, {'name': 'Ellyce', 'count': 76}, {'name': 'Anifhe', 'count': 75}, {'name': 'Mirabelle', 'count': 75}, {'name': 'Karine', 'count': 71}, {'name': 'Trinity', 'count': 65}, {'name': 'Jeanie', 'count': 64}, {'name': 'Michal', 'count': 64}, {'name': 'Ardeshir', 'count': 60}, {'name': 'Faryn', 'count': 60}, {'name': 'Stefanie', 'count': 59}, {'name': 'Joeddy', 'count': 58}, {'name': 'Liala', 'count': 57}, {'name': 'Aneeka', 'count': 50}, {'name': 'Camillie', 'count': 49}, {'name': 'Johndean', 'count': 48}, {'name': 'Aneshia', 'count': 48}, {'name': 'Samar', 'count': 44}, {'name': 'Shayaan', 'count': 43}, {'name': 'Capri', 'count': 40}, {'name': 'Breagha', 'count': 38}, {'name': 'Atapattu', 'count': 36}, {'name': 'Jameil', 'count': 35}, {'name': 'Marcous', 'count': 34}, {'name': 'Gabriella', 'count': 30}, {'name': 'Ailsa', 'count': 25}, {'name': 'Kizhi', 'count': 25}, {'name': 'Marcedez', 'count': 24}, {'name': 'Tillie', 'count': 23}, {'name': 'Riccardo', 'count': 21}, {'name': 'Roxabella', 'count': 20}, {'name': 'Somaya', 'count': 19}, {'name': 'Lokesh', 'count': 18}, {'name': 'Marysia', 'count': 13}, {'name': 'Peggy', 'count': 8}, {'name': 'Dominik', 'count': 8}, {'name': 'Tailee', 'count': 4}, {'name': 'Steffie', 'count': 1}]\n",
      "Count: 50\n",
      "Sum: 2645\n"
     ]
    }
   ],
   "source": [
    "# My Solution\n",
    "import urllib.request, ssl, json\n",
    "\n",
    "# Ignore SSL certificate errors\n",
    "ctx = ssl.create_default_context()\n",
    "ctx.check_hostname = False\n",
    "ctx.verify_mode = ssl.CERT_NONE\n",
    "\n",
    "url = input(\"Enter location: \")\n",
    "if not url:\n",
    "  url = \"http://py4e-data.dr-chuck.net/comments_2127282.json\"\n",
    "print(\"Retrieving\", url)\n",
    "\n",
    "data = urllib.request.urlopen(url, context=ctx).read()\n",
    "print(\"Received\", len(data), \"characters\")\n",
    "\n",
    "info = json.loads(data)['comments']\n",
    "print(info)\n",
    "counts = 0\n",
    "total = 0\n",
    "for item in info:\n",
    "  if item['name']:\n",
    "    counts += 1\n",
    "    total += int(item['count'])\n",
    "\n",
    "print(f'Count: {counts}')\n",
    "print(f\"Sum: {total}\")"
   ]
  },
  {
   "cell_type": "code",
   "execution_count": null,
   "metadata": {},
   "outputs": [
    {
     "name": "stdout",
     "output_type": "stream",
     "text": [
      "Retrieving http://py4e-data.dr-chuck.net/comments_2127282.json\n",
      "Received 2767 characters\n",
      "Count: 50\n",
      "Sum: 2645\n"
     ]
    }
   ],
   "source": [
    "# Refined by ChatGPT\n",
    "import urllib.request, ssl, json\n",
    "\n",
    "# Ignore SSL certificate errors\n",
    "ctx = ssl.create_default_context()\n",
    "ctx.check_hostname = False\n",
    "ctx.verify_mode = ssl.CERT_NONE\n",
    "\n",
    "url = input(\"Enter location: \")\n",
    "if not url:\n",
    "    url = \"http://py4e-data.dr-chuck.net/comments_2127282.json\"\n",
    "print(\"Retrieving\", url)\n",
    "\n",
    "# Add error handling to manage unexpected inputs or failed connections\n",
    "try:\n",
    "    data = urllib.request.urlopen(url, context=ctx).read()\n",
    "except Exception as e:\n",
    "    print(\"Error fetching data:\", e)\n",
    "    exit()\n",
    "\n",
    "print(\"Received\", len(data), \"characters\")\n",
    "info = json.loads(data)['comments']\n",
    "\n",
    "total = sum(int(item['count']) for item in info)\n",
    "counts = len(info)\n",
    "\n",
    "print(f'Count: {counts}')\n",
    "print(f'Sum: {total}')"
   ]
  }
 ],
 "metadata": {
  "kernelspec": {
   "display_name": "Python 3",
   "language": "python",
   "name": "python3"
  },
  "language_info": {
   "codemirror_mode": {
    "name": "ipython",
    "version": 3
   },
   "file_extension": ".py",
   "mimetype": "text/x-python",
   "name": "python",
   "nbconvert_exporter": "python",
   "pygments_lexer": "ipython3",
   "version": "3.9.6"
  }
 },
 "nbformat": 4,
 "nbformat_minor": 2
}
