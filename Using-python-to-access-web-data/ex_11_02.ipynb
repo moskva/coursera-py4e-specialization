{
 "cells": [
  {
   "cell_type": "markdown",
   "metadata": {},
   "source": [
    "# Finding Numbers in a Haystack\n",
    "\n",
    "In this assignment you will read through and parse a file with text and numbers. You will extract all the numbers in the file and compute the sum of the numbers.\n",
    "\n",
    "Data Files\n",
    "We provide two files for this assignment. One is a sample file where we give you the sum for your testing and the other is the actual data you need to process for the assignment.\n",
    "\n",
    "Sample data: http://py4e-data.dr-chuck.net/regex_sum_42.txt (There are 90 values with a sum=445833)\n",
    "\n",
    "Actual data: http://py4e-data.dr-chuck.net/regex_sum_2127277.txt (There are 86 values and the sum ends with 733)\n",
    "\n",
    "These links open in a new window. Make sure to save the file into the same folder as you will be writing your Python program. Note: Each student will have a distinct data file for the assignment - so only use your own data file for analysis.\n",
    "\n",
    "Data Format\n",
    "\n",
    "The file contains much of the text from the introduction of the textbook except that random numbers are inserted throughout the text. Here is a sample of the output you might see:\n",
    "```\n",
    "Why should you learn to write programs? 7746\n",
    "12 1929 8827\n",
    "Writing programs (or programming) is a very creative \n",
    "7 and rewarding activity.  You can write programs for \n",
    "many reasons, ranging from making your living to solving\n",
    "8837 a difficult data analysis problem to having fun to helping 128\n",
    "someone else solve a problem.  This book assumes that \n",
    "everyone needs to know how to program ...\n",
    "```\n",
    "\n",
    "The sum for the sample text above is 27486. The numbers can appear anywhere in the line. There can be any number of numbers in each line (including none).\n",
    "\n",
    "Handling The Data\n",
    "\n",
    "The basic outline of this problem is to read the file, look for integers using the re.findall(), looking for a regular expression of '[0-9]+' and then converting the extracted strings to integers and summing up the integers.\n",
    "\n",
    "# Expected Output\n",
    "There are 86 values and the sum ends with 733."
   ]
  },
  {
   "cell_type": "code",
   "execution_count": null,
   "metadata": {},
   "outputs": [
    {
     "name": "stdout",
     "output_type": "stream",
     "text": [
      "There are 90 values and the total is 445833\n"
     ]
    }
   ],
   "source": [
    "# My Solution for Testing\n",
    "import re\n",
    "\n",
    "filename = input(\"Please enter the file name\")\n",
    "\n",
    "if not filename:\n",
    "    filename = \"regex_sum_42.txt\"\n",
    "\n",
    "try:\n",
    "    with open(filename, 'r') as file:\n",
    "        counts = 0\n",
    "        total = 0\n",
    "\n",
    "        for line in file:\n",
    "            numbers = re.findall(r\"[0-9]+\", line.rstrip())\n",
    "            for num in numbers:\n",
    "                counts += 1\n",
    "                total += int(num)\n",
    "            \n",
    "        print(f\"There are {counts} values and the total is {total}\")\n",
    "    \n",
    "except FileNotFoundError:\n",
    "    print(\"File doens't found:\", filename)"
   ]
  },
  {
   "cell_type": "code",
   "execution_count": null,
   "metadata": {},
   "outputs": [
    {
     "name": "stdout",
     "output_type": "stream",
     "text": [
      "There are 86 values and the total is 398733.\n"
     ]
    }
   ],
   "source": [
    "# My Solution\n",
    "\n",
    "import re\n",
    "\n",
    "filename = input(\"Please enter the file name\")\n",
    "\n",
    "if not filename:\n",
    "    filename = \"regex_sum_2127277.txt\"\n",
    "\n",
    "try:\n",
    "    with open(filename, 'r') as file:\n",
    "        counts = 0\n",
    "        total = 0\n",
    "\n",
    "        for line in file:\n",
    "            numbers = re.findall(r\"[0-9]+\", line)\n",
    "            for num in numbers:\n",
    "                counts += 1\n",
    "                total += int(num)\n",
    "\n",
    "        print(f\"There are {counts} values and the total is {total}.\")\n",
    "\n",
    "except FileNotFoundError:\n",
    "    print(f\"File not found: {filename}\")"
   ]
  },
  {
   "cell_type": "code",
   "execution_count": 1,
   "metadata": {},
   "outputs": [
    {
     "name": "stdout",
     "output_type": "stream",
     "text": [
      "There are 86 values, and their total is 398733.\n"
     ]
    }
   ],
   "source": [
    "# Refined Code by ChatGPT\n",
    "\n",
    "import re\n",
    "\n",
    "# Prompt for the filename, with a default value if none is provided\n",
    "filename = input(\"Please enter the file name: \").strip()\n",
    "if not filename:\n",
    "    filename = \"regex_sum_2127277.txt\"\n",
    "\n",
    "try:\n",
    "    # Open the file and process it line by line\n",
    "    with open(filename, 'r') as file:\n",
    "        # Calculate total and counts simultaneously\n",
    "        total = 0\n",
    "        counts = 0\n",
    "        for line in file:\n",
    "            numbers = re.findall(r\"[0-9]+\", line)\n",
    "            counts += len(numbers)  # Count the numbers found\n",
    "            total += sum(map(int, numbers))  # Add their values to the total\n",
    "\n",
    "    # Print the total and count of values\n",
    "    print(f\"There are {counts} values, and their total is {total}.\")\n",
    "\n",
    "except FileNotFoundError:\n",
    "    print(f\"File not found: {filename}\")"
   ]
  },
  {
   "cell_type": "markdown",
   "metadata": {},
   "source": [
    "# Key Features\n",
    "counts Calculation:\n",
    "\n",
    "For each line, the length of numbers (the list of found numbers) is added to counts:\n",
    "\n",
    "`counts += len(numbers)`\n",
    "\n",
    "total Calculation:\n",
    "\n",
    "Uses sum(map(int, numbers)) to sum the integers from numbers on each line:\n",
    "\n",
    "`total += sum(map(int, numbers))`\n",
    "\n",
    "Readability:\n",
    "\n",
    "The logic is split into clear steps for finding numbers, counting them, and summing them, making the code beginner-friendly."
   ]
  }
 ],
 "metadata": {
  "kernelspec": {
   "display_name": "Python 3",
   "language": "python",
   "name": "python3"
  },
  "language_info": {
   "codemirror_mode": {
    "name": "ipython",
    "version": 3
   },
   "file_extension": ".py",
   "mimetype": "text/x-python",
   "name": "python",
   "nbconvert_exporter": "python",
   "pygments_lexer": "ipython3",
   "version": "3.9.6"
  }
 },
 "nbformat": 4,
 "nbformat_minor": 2
}
