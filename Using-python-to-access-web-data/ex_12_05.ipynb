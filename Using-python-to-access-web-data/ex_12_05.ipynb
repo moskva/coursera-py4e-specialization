{
 "cells": [
  {
   "cell_type": "markdown",
   "metadata": {},
   "source": [
    "# Excercise \n",
    "### Scraping Numbers from HTML using BeautifulSoup \n",
    "In this assignment you will write a Python program similar to http://www.py4e.com/code3/urllink2.py. The program will use urllib to read the HTML from the data files below, and parse the data, extracting numbers and compute the sum of the numbers in the file.\n",
    "\n",
    "We provide two files for this assignment. One is a sample file where we give you the sum for your testing and the other is the actual data you need to process for the assignment.\n",
    "\n",
    "- Sample data: http://py4e-data.dr-chuck.net/comments_42.html (Sum=2553)\n",
    "- Actual data: http://py4e-data.dr-chuck.net/comments_2127279.html (Sum ends with 61)\n",
    "\n",
    "You do not need to save these files to your folder since your program will read the data directly from the URL. Note: Each student will have a distinct data url for the assignment - so only use your own data url for analysis.\n",
    "\n",
    "### Data Format\n",
    "The file is a table of names and comment counts. You can ignore most of the data in the file except for lines like the following:\n",
    "```\n",
    "<tr><td>Modu</td><td><span class=\"comments\">90</span></td></tr>\n",
    "<tr><td>Kenzie</td><td><span class=\"comments\">88</span></td></tr>\n",
    "<tr><td>Hubert</td><td><span class=\"comments\">87</span></td></tr>\n",
    "```\n",
    "You are to find all the <span> tags in the file and pull out the numbers from the tag and sum the numbers.\n",
    "\n",
    "Look at the sample code provided. It shows how to find all of a certain kind of tag, loop through the tags and extract the various aspects of the tags.\n",
    "\n",
    "```\n",
    "...\n",
    "# Retrieve all of the anchor tags\n",
    "tags = soup('a')\n",
    "for tag in tags:\n",
    "   # Look at the parts of a tag\n",
    "   print 'TAG:',tag\n",
    "   print 'URL:',tag.get('href', None)\n",
    "   print 'Contents:',tag.contents[0]\n",
    "   print 'Attrs:',tag.attrs\n",
    "```\n",
    "\n",
    "You need to adjust this code to look for span tags and pull out the text content of the span tag, convert them to integers and add them up to complete the assignment.\n",
    "\n",
    "### Sample Execution\n",
    "```\n",
    "$ python3 solution.py\n",
    "Enter - http://py4e-data.dr-chuck.net/comments_42.html\n",
    "Count 50\n",
    "Sum 2...\n",
    "```\n",
    "\n",
    "# Expected output\n",
    "ends with 61"
   ]
  },
  {
   "cell_type": "code",
   "execution_count": null,
   "metadata": {},
   "outputs": [
    {
     "name": "stdout",
     "output_type": "stream",
     "text": [
      "There are 50 numbers, the total is 2553.\n"
     ]
    }
   ],
   "source": [
    "# My Solution for Testing\n",
    "from urllib.request import urlopen\n",
    "from bs4 import BeautifulSoup\n",
    "import ssl\n",
    "\n",
    "# Ignore SSL certificate errors\n",
    "ctx = ssl.create_default_context()\n",
    "ctx.check_hostname = False\n",
    "ctx.verify_mode = ssl.CERT_NONE\n",
    "\n",
    "url = input('Enter - ')\n",
    "if not url:\n",
    "    url = \"http://py4e-data.dr-chuck.net/comments_42.html\"\n",
    "html = urlopen(url, context=ctx).read()\n",
    "soup = BeautifulSoup(html, \"html.parser\")\n",
    "\n",
    "# Retrieve all of the anchor tags\n",
    "tags = soup('span')\n",
    "counts = sum(1 for tag in tags )\n",
    "\n",
    "total = 0\n",
    "for tag in tags:\n",
    "    num= tag.contents[0]\n",
    "    total += int(num)\n",
    "\n",
    "print(f\"There are {counts} numbers, the total is {total}.\")"
   ]
  },
  {
   "cell_type": "code",
   "execution_count": 23,
   "metadata": {},
   "outputs": [
    {
     "name": "stdout",
     "output_type": "stream",
     "text": [
      "There are 50 numbers, the total is 2161.\n"
     ]
    }
   ],
   "source": [
    "# My Solution\n",
    "from urllib.request import urlopen\n",
    "from bs4 import BeautifulSoup\n",
    "import ssl\n",
    "\n",
    "# Ignore SSL certificate errors\n",
    "ctx = ssl.create_default_context()\n",
    "ctx.check_hostname = False\n",
    "ctx.verify_mode = ssl.CERT_NONE\n",
    "\n",
    "url = input('Enter - ')\n",
    "if not url:\n",
    "    url = \"http://py4e-data.dr-chuck.net/comments_2127279.html\"\n",
    "html = urlopen(url, context=ctx).read()\n",
    "soup = BeautifulSoup(html, \"html.parser\")\n",
    "\n",
    "# Retrieve all of the anchor tags\n",
    "tags = soup('span')\n",
    "counts = sum(1 for tag in tags )\n",
    "\n",
    "total = 0\n",
    "for tag in tags:\n",
    "    num= tag.contents[0]\n",
    "    total += int(num)\n",
    "\n",
    "print(f\"There are {counts} numbers, the total is {total}.\")"
   ]
  },
  {
   "cell_type": "code",
   "execution_count": 25,
   "metadata": {},
   "outputs": [
    {
     "name": "stdout",
     "output_type": "stream",
     "text": [
      "[<span class=\"comments\">100</span>, <span class=\"comments\">99</span>, <span class=\"comments\">91</span>, <span class=\"comments\">91</span>, <span class=\"comments\">89</span>, <span class=\"comments\">89</span>, <span class=\"comments\">85</span>, <span class=\"comments\">84</span>, <span class=\"comments\">83</span>, <span class=\"comments\">69</span>, <span class=\"comments\">65</span>, <span class=\"comments\">54</span>, <span class=\"comments\">52</span>, <span class=\"comments\">52</span>, <span class=\"comments\">51</span>, <span class=\"comments\">49</span>, <span class=\"comments\">49</span>, <span class=\"comments\">49</span>, <span class=\"comments\">48</span>, <span class=\"comments\">48</span>, <span class=\"comments\">48</span>, <span class=\"comments\">47</span>, <span class=\"comments\">44</span>, <span class=\"comments\">44</span>, <span class=\"comments\">44</span>, <span class=\"comments\">43</span>, <span class=\"comments\">42</span>, <span class=\"comments\">41</span>, <span class=\"comments\">40</span>, <span class=\"comments\">37</span>, <span class=\"comments\">35</span>, <span class=\"comments\">33</span>, <span class=\"comments\">31</span>, <span class=\"comments\">30</span>, <span class=\"comments\">25</span>, <span class=\"comments\">23</span>, <span class=\"comments\">22</span>, <span class=\"comments\">21</span>, <span class=\"comments\">20</span>, <span class=\"comments\">19</span>, <span class=\"comments\">16</span>, <span class=\"comments\">16</span>, <span class=\"comments\">12</span>, <span class=\"comments\">10</span>, <span class=\"comments\">7</span>, <span class=\"comments\">6</span>, <span class=\"comments\">5</span>, <span class=\"comments\">1</span>, <span class=\"comments\">1</span>, <span class=\"comments\">1</span>]\n",
      "Count 50\n",
      "Sum 2161\n"
     ]
    }
   ],
   "source": [
    "# Refined by ChatGPT\n",
    "from urllib.request import urlopen\n",
    "from bs4 import BeautifulSoup\n",
    "import ssl\n",
    "\n",
    "# Ignore SSL certificate errors\n",
    "ctx = ssl.create_default_context()\n",
    "ctx.check_hostname = False\n",
    "ctx.verify_mode = ssl.CERT_NONE\n",
    "\n",
    "# Get URL input from the user\n",
    "url = input('Enter - ')\n",
    "if not url:\n",
    "    url = \"http://py4e-data.dr-chuck.net/comments_2127279.html\"  # Default test URL\n",
    "\n",
    "# Fetch the HTML content from the URL\n",
    "html = urlopen(url, context=ctx).read()\n",
    "soup = BeautifulSoup(html, \"html.parser\")\n",
    "\n",
    "# Retrieve all of the 'span' tags that contain the numbers\n",
    "tags = soup.find_all('span', class_='comments')\n",
    "print(tags)\n",
    "\n",
    "# Calculate the sum of the numbers\n",
    "total = 0\n",
    "for tag in tags:\n",
    "    total += int(tag.text)  # Directly convert the text content of the tag to an integer\n",
    "\n",
    "# Output the result\n",
    "print(f\"Count {len(tags)}\")\n",
    "print(f\"Sum {total}\")\n"
   ]
  }
 ],
 "metadata": {
  "kernelspec": {
   "display_name": "Python 3",
   "language": "python",
   "name": "python3"
  },
  "language_info": {
   "codemirror_mode": {
    "name": "ipython",
    "version": 3
   },
   "file_extension": ".py",
   "mimetype": "text/x-python",
   "name": "python",
   "nbconvert_exporter": "python",
   "pygments_lexer": "ipython3",
   "version": "3.9.6"
  }
 },
 "nbformat": 4,
 "nbformat_minor": 2
}
