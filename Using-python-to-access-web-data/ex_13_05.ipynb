{
 "cells": [
  {
   "cell_type": "markdown",
   "metadata": {},
   "source": [
    "# Excercise\n",
    "### Extracting Data from XML\n",
    "\n",
    "In this assignment you will write a Python program somewhat similar to http://www.py4e.com/code3/xml3.py. The program will prompt for a URL, read the XML data from that URL using urllib and then parse and extract the comment counts from the XML data, compute the sum of the numbers in the file.\n",
    "\n",
    "We provide two files for this assignment. One is a sample file where we give you the sum for your testing and the other is the actual data you need to process for the assignment.\n",
    "\n",
    "- Sample data: http://py4e-data.dr-chuck.net/comments_42.xml (Sum=2553)\n",
    "- Actual data: http://py4e-data.dr-chuck.net/comments_2127281.xml (Sum ends with 15)\n",
    "\n",
    "You do not need to save these files to your folder since your program will read the data directly from the URL. Note: Each student will have a distinct data url for the assignment - so only use your own data url for analysis.\n",
    "\n",
    "###Data Format and Approach\n",
    "The data consists of a number of names and comment counts in XML as follows:\n",
    "\n",
    "```\n",
    "<comment>\n",
    "  <name>Matthias</name>\n",
    "  <count>97</count>\n",
    "</comment>\n",
    "```\n",
    "\n",
    "You are to look through all the <comment> tags and find the <count> values sum the numbers. The closest sample code that shows how to parse XML is xml3.py.\n",
    "\n",
    "To make the code a little simpler, you can use an XPath selector string to look through the entire tree of XML for any tag named 'count' with the following line of code:\n",
    "\n",
    "`counts = tree.findall('.//count')`\n",
    "\n",
    "Take a look at the Python ElementTree documentation and look for the supported XPath syntax for details. You could also work from the top of the XML down to the comments node and then loop through the child nodes of the comments node.\n",
    "\n",
    "### Sample Execution\n",
    "```\n",
    "$ python3 solution.py\n",
    "Enter location: http://py4e-data.dr-chuck.net/comments_42.xml\n",
    "Retrieving http://py4e-data.dr-chuck.net/comments_42.xml\n",
    "Retrieved 4189 characters\n",
    "Count: 50\n",
    "Sum: 2...\n",
    "```\n",
    "\n",
    "### Expected Output\n",
    "ends with 15"
   ]
  },
  {
   "cell_type": "code",
   "execution_count": 3,
   "metadata": {},
   "outputs": [
    {
     "name": "stdout",
     "output_type": "stream",
     "text": [
      "Retrieving http://py4e-data.dr-chuck.net/comments_42.xml\n",
      "Retrieved 4189 characters\n",
      "Count: 50\n",
      "Sum: 2553\n"
     ]
    }
   ],
   "source": [
    "# My Solution for Testing\n",
    "import urllib.request\n",
    "import xml.etree.ElementTree as ET\n",
    "\n",
    "url = input('Enter location: ')\n",
    "if not url: \n",
    "    url = 'http://py4e-data.dr-chuck.net/comments_42.xml'\n",
    "print('Retrieving', url)\n",
    "\n",
    "uh = urllib.request.urlopen(url)\n",
    "data = uh.read()\n",
    "print('Retrieved',len(data),'characters')\n",
    "\n",
    "tree = ET.fromstring(data)\n",
    "counts = tree.findall('.//count')\n",
    "nums = list()\n",
    "for result in counts:\n",
    "    # Debug print the data :)\n",
    "    # print(result.text)\n",
    "    nums.append(result.text)\n",
    "\n",
    "print('Count:', len(nums))\n",
    "print('Sum:', sum(map(int,nums)))"
   ]
  },
  {
   "cell_type": "code",
   "execution_count": 4,
   "metadata": {},
   "outputs": [
    {
     "name": "stdout",
     "output_type": "stream",
     "text": [
      "Retrieving http://py4e-data.dr-chuck.net/comments_2127281.xml\n",
      "Retrieved 4219 characters\n",
      "Count: 50\n",
      "Sum: 2315\n"
     ]
    }
   ],
   "source": [
    "# My Solution\n",
    "import urllib.request\n",
    "import xml.etree.ElementTree as ET\n",
    "\n",
    "url = input('Enter location: ')\n",
    "if not url: \n",
    "    url = 'http://py4e-data.dr-chuck.net/comments_2127281.xml'\n",
    "print('Retrieving', url)\n",
    "\n",
    "uh = urllib.request.urlopen(url)\n",
    "data = uh.read()\n",
    "print('Retrieved',len(data),'characters')\n",
    "\n",
    "tree = ET.fromstring(data)\n",
    "counts = tree.findall('.//count')\n",
    "nums = list()\n",
    "for result in counts:\n",
    "    nums.append(result.text)\n",
    "\n",
    "print('Count:', len(nums))\n",
    "print('Sum:', sum(map(int,nums)))"
   ]
  },
  {
   "cell_type": "code",
   "execution_count": 5,
   "metadata": {},
   "outputs": [
    {
     "name": "stdout",
     "output_type": "stream",
     "text": [
      "Retrieving http://py4e-data.dr-chuck.net/comments_2127281.xml\n",
      "Retrieved 4219 characters\n",
      "Count: 50\n",
      "Sum: 2315\n"
     ]
    }
   ],
   "source": [
    "# Refined by ChatGPT\n",
    "import urllib.request\n",
    "import xml.etree.ElementTree as ET\n",
    "\n",
    "# Prompt for URL input with a default value\n",
    "url = input('Enter location: ')\n",
    "if not url:\n",
    "    url = 'http://py4e-data.dr-chuck.net/comments_2127281.xml'\n",
    "\n",
    "print('Retrieving', url)\n",
    "\n",
    "# Open the URL and read the data\n",
    "response = urllib.request.urlopen(url)\n",
    "data = response.read()\n",
    "\n",
    "print('Retrieved', len(data), 'characters')\n",
    "\n",
    "# Parse the XML data\n",
    "tree = ET.fromstring(data)\n",
    "\n",
    "# Find all <count> elements\n",
    "counts = tree.findall('.//count')\n",
    "\n",
    "# Convert the text content of <count> elements to integers and sum them\n",
    "total_sum = sum(int(count.text) for count in counts)\n",
    "\n",
    "# Output results\n",
    "print('Count:', len(counts))\n",
    "print('Sum:', total_sum)\n"
   ]
  }
 ],
 "metadata": {
  "kernelspec": {
   "display_name": "Python 3",
   "language": "python",
   "name": "python3"
  },
  "language_info": {
   "codemirror_mode": {
    "name": "ipython",
    "version": 3
   },
   "file_extension": ".py",
   "mimetype": "text/x-python",
   "name": "python",
   "nbconvert_exporter": "python",
   "pygments_lexer": "ipython3",
   "version": "3.9.6"
  }
 },
 "nbformat": 4,
 "nbformat_minor": 2
}
