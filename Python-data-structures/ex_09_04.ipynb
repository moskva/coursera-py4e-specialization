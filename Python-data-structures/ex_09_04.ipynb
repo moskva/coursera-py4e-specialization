{
 "cells": [
  {
   "cell_type": "markdown",
   "metadata": {},
   "source": [
    "# Exercise 09.04\n",
    "Write a program to read through the mbox-short.txt and figure out who has sent the greatest number of mail messages. The program looks for 'From ' lines and takes the second word of those lines as the person who sent the mail. The program creates a Python dictionary that maps the sender's mail address to a count of the number of times they appear in the file. After the dictionary is produced, the program reads through the dictionary using a maximum loop to find the most prolific committer.\n",
    "\n",
    "# Expected Output\n",
    "cwen@iupui.edu 5"
   ]
  },
  {
   "cell_type": "code",
   "execution_count": null,
   "metadata": {},
   "outputs": [],
   "source": [
    "# My Solution\n",
    "name = input(\"Enter file:\")\n",
    "if not name:\n",
    "    name = \"mbox-short.txt\"\n",
    "\n",
    "try:\n",
    "    with open(name, 'r') as handle:\n",
    "        committers = dict()\n",
    "        lst = list()\n",
    "        \n",
    "        # construct the email list\n",
    "        for line in handle:\n",
    "            if line.startswith('From '):\n",
    "                words = line.split()\n",
    "                lst.append(words[1])\n",
    "\n",
    "        # construct the committers dictionaru\n",
    "        for email in lst:\n",
    "            committers[email] = committers.get(email, 0) + 1\n",
    "\n",
    "        # find out the most prolific committer\n",
    "        item = None\n",
    "        count = None\n",
    "        for key, value in committers.items():\n",
    "            if count == None or value > count:\n",
    "                item = key\n",
    "                count = value\n",
    "\n",
    "        print(item, count)\n",
    "\n",
    "except FileNotFoundError:\n",
    "    print(\"Can't find the file\", name)\n",
    "            \n",
    "\n"
   ]
  },
  {
   "cell_type": "code",
   "execution_count": null,
   "metadata": {},
   "outputs": [],
   "source": [
    "# Refined Beginner-Friendly Code by ChatGPT\n",
    "name = input(\"Enter file: \")\n",
    "if not name:\n",
    "    name = \"mbox-short.txt\"\n",
    "\n",
    "try:\n",
    "    with open(name, 'r') as handle:\n",
    "        committers = {}  # Dictionary to store email counts\n",
    "\n",
    "        # Process each line in the file\n",
    "        for line in handle:\n",
    "            if line.startswith('From '):  # Look for lines starting with 'From '\n",
    "                words = line.split()     # Split the line into words\n",
    "                email = words[1]         # Get the email address (second word)\n",
    "                # Update the count for the email address\n",
    "                if email in committers:\n",
    "                    committers[email] += 1\n",
    "                else:\n",
    "                    committers[email] = 1\n",
    "\n",
    "        # Find the most prolific committer\n",
    "        most_prolific_email = None\n",
    "        highest_count = 0\n",
    "\n",
    "        for email, count in committers.items():\n",
    "            if count > highest_count:  # Update if this count is higher\n",
    "                most_prolific_email = email\n",
    "                highest_count = count\n",
    "\n",
    "        # Print the result\n",
    "        print(most_prolific_email, highest_count)\n",
    "\n",
    "except FileNotFoundError:\n",
    "    print(\"Can't find the file:\", name)\n"
   ]
  },
  {
   "cell_type": "markdown",
   "metadata": {},
   "source": [
    "# Key Refinements\n",
    "Remove Unnecessary lst:\n",
    "The intermediate lst list was unnecessary. Instead, directly update the committers dictionary as you process each 'From ' line.\n",
    "\n",
    "Explicit Dictionary Update:\n",
    "Used an explicit if-else block to update the dictionary. This is easier for beginners to follow compared to using .get().\n",
    "\n",
    "Clear Variable Names:\n",
    "Renamed item and count to most_prolific_email and highest_count for clarity.\n",
    "\n",
    "Avoid None for Initialization:\n",
    "Initialized highest_count to 0 instead of None. This is easier to understand when comparing numerical values."
   ]
  },
  {
   "cell_type": "code",
   "execution_count": 3,
   "metadata": {},
   "outputs": [
    {
     "name": "stdout",
     "output_type": "stream",
     "text": [
      "cwen@iupui.edu 5\n"
     ]
    }
   ],
   "source": [
    "# My Refined Solution \n",
    "\n",
    "name = input(\"Enter file's name\")\n",
    "\n",
    "if not name:\n",
    "    name = \"mbox-short.txt\"\n",
    "\n",
    "try:\n",
    "    with open(name, 'r') as handle:\n",
    "        committers = {}\n",
    "        for line in handle:\n",
    "            if line.startswith(\"From \"):\n",
    "                email = line.split()[1]\n",
    "                committers[email] = committers.get(email, 0) + 1\n",
    "        \n",
    "        most_committer = None\n",
    "        count = 0\n",
    "        for key, value in committers.items():\n",
    "            if most_committer == None or value > count:\n",
    "                most_committer = key\n",
    "                count = value\n",
    "        print(most_committer, count)\n",
    "\n",
    "except FileNotFoundError:\n",
    "    print(\"File not found\", name)"
   ]
  }
 ],
 "metadata": {
  "kernelspec": {
   "display_name": "Python 3",
   "language": "python",
   "name": "python3"
  },
  "language_info": {
   "codemirror_mode": {
    "name": "ipython",
    "version": 3
   },
   "file_extension": ".py",
   "mimetype": "text/x-python",
   "name": "python",
   "nbconvert_exporter": "python",
   "pygments_lexer": "ipython3",
   "version": "3.9.6"
  }
 },
 "nbformat": 4,
 "nbformat_minor": 2
}
