{
 "cells": [
  {
   "cell_type": "markdown",
   "metadata": {},
   "source": [
    "# Excercise 08_05\n",
    "Open the file mbox-short.txt and read it line by line. When you find a line that starts with \"From \" like the following line:\n",
    "\n",
    "`From stephen.marquard@uct.ac.za Sat Jan  5 09:14:16 2008`\n",
    "\n",
    "You will parse the From line using `split()` and print out the second word in the line (i.e. the entire address of the person who sent the message). Then print out a count at the end.\n",
    "\n",
    "Hint: make sure not to include the lines that start with \"From:\". Also look at the last line of the sample output to see how to print the count."
   ]
  },
  {
   "cell_type": "code",
   "execution_count": null,
   "metadata": {},
   "outputs": [],
   "source": [
    "# My solution\n",
    "\n",
    "fname = input(\"Enter file name: \")\n",
    "if len(fname) < 1:\n",
    "    fname = \"mbox-short.txt\"\n",
    "\n",
    "try:\n",
    "    with open(fname, 'r') as fh:\n",
    "        count = 0\n",
    "        for line in fh:\n",
    "            # line = line.rstrip()\n",
    "            if '@' in line:\n",
    "                line = line.lower().split()\n",
    "\n",
    "                if 'from' in line:\n",
    "                    index = line.index('from')\n",
    "                    # print(line)\n",
    "                    print(line[index + 1])\n",
    "                    count += 1\n",
    "\n",
    "    print(\"There were\", count, \"lines in the file with From as the first word\")\n",
    "\n",
    "except FileNotFoundError:\n",
    "    print(\"Can't open the file:\", fname)"
   ]
  },
  {
   "cell_type": "code",
   "execution_count": null,
   "metadata": {},
   "outputs": [],
   "source": [
    "# Refine by ChatGPT\n",
    "\n",
    "fname = input(\"Enter file name: \")\n",
    "if len(fname) < 1:  # Use default file if no input\n",
    "    fname = \"mbox-short.txt\"\n",
    "\n",
    "try:\n",
    "    with open(fname, 'r') as fh:\n",
    "        count = 0\n",
    "\n",
    "        for line in fh:\n",
    "            # Process only lines starting with 'From '\n",
    "            if line.startswith('From '):\n",
    "                words = line.split()  # Split the line into words\n",
    "                print(words[1])       # Print the email address (second word)\n",
    "                count += 1\n",
    "\n",
    "        print(\"There were\", count, \"lines in the file with From as the first word\")\n",
    "\n",
    "except FileNotFoundError:\n",
    "    print(\"Can't open the file:\", fname)\n"
   ]
  },
  {
   "cell_type": "markdown",
   "metadata": {},
   "source": [
    "# Key Improvements\n",
    "Directly Check `startswith('From ')`:\n",
    "Avoids unnecessary checks for '@' and \"from\" since the task specifies lines starting with 'From '.\n",
    "\n",
    "Avoid Lowercasing:\n",
    "Lowercasing the line isn't necessary because we're matching 'From ' exactly.\n",
    "\n",
    "Simplify Index Handling:\n",
    "Directly access `words[1]` instead of searching for the index of 'from'.\n",
    "\n",
    "Remove Redundant Code:\n",
    "No need to check for '@' in the line since every valid 'From ' line already contains an email address.\n",
    "\n",
    "Use `with` for File Handling:\n",
    "You've already done this correctly. It ensures proper file closure.\n",
    "\n",
    "Better Naming and Readability:\n",
    "Variable names and comments now clearly reflect their purpose."
   ]
  }
 ],
 "metadata": {
  "kernelspec": {
   "display_name": "Python 3",
   "language": "python",
   "name": "python3"
  },
  "language_info": {
   "codemirror_mode": {
    "name": "ipython",
    "version": 3
   },
   "file_extension": ".py",
   "mimetype": "text/x-python",
   "name": "python",
   "nbconvert_exporter": "python",
   "pygments_lexer": "ipython3",
   "version": "3.9.6"
  }
 },
 "nbformat": 4,
 "nbformat_minor": 2
}
