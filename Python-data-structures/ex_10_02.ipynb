{
 "cells": [
  {
   "cell_type": "markdown",
   "metadata": {},
   "source": [
    "# Exercise 10.02\n",
    "Write a program to read through the mbox-short.txt and figure out the distribution by hour of the day for each of the messages. You can pull the hour out from the 'From ' line by finding the time and then splitting the string a second time using a colon.\n",
    "\n",
    "`From stephen.marquard@uct.ac.za Sat Jan  5 09:14:16 2008`\n",
    "\n",
    "Once you have accumulated the counts for each hour, print out the counts, sorted by hour as shown below.\n",
    "\n",
    "# Expected Output\n",
    "04 3\n",
    "06 1\n",
    "07 1\n",
    "09 2\n",
    "10 3\n",
    "11 6\n",
    "14 1\n",
    "15 2\n",
    "16 4\n",
    "17 2\n",
    "18 1\n",
    "19 1"
   ]
  },
  {
   "cell_type": "code",
   "execution_count": null,
   "metadata": {},
   "outputs": [],
   "source": [
    "# My Solution\n",
    "name = input(\"Enter file:\")\n",
    "if not name:\n",
    "    name = \"mbox-short.txt\"\n",
    "\n",
    "try:\n",
    "    with open(name) as handle:\n",
    "        hrs = {}\n",
    "        lst = []\n",
    "        for line in handle:\n",
    "            if line.startswith(\"From \"):\n",
    "                timestamp = line.split()[5]\n",
    "                hr = timestamp.split(':')[0]\n",
    "                # print(hr)\n",
    "                hrs[hr] = hrs.get(hr, 0) + 1\n",
    "        # print(sorted([(k,v) for k, v in hrs.items()]) )\n",
    "        lst = sorted( [ (k,v) for k,v in hrs.items() ])\n",
    "        #  print(lst)\n",
    "        for item in lst:\n",
    "            print(item[0], item[1])\n",
    "\n",
    "except FileNotFoundError:\n",
    "    print(\"Can't find\", name)\n"
   ]
  },
  {
   "cell_type": "code",
   "execution_count": null,
   "metadata": {},
   "outputs": [],
   "source": [
    "# Refind Code by ChatGPT\n",
    "\n",
    "name = input(\"Enter file: \")\n",
    "if not name:\n",
    "    name = \"mbox-short.txt\"\n",
    "\n",
    "try:\n",
    "    with open(name) as handle:\n",
    "        hours_count = {}  # Dictionary to store counts by hour\n",
    "\n",
    "        for line in handle:\n",
    "            if line.startswith(\"From \"):  # Process only lines starting with 'From '\n",
    "                time = line.split()[5]  # Extract the timestamp (6th word)\n",
    "                hour = time.split(':')[0]  # Extract the hour from the timestamp\n",
    "                hours_count[hour] = hours_count.get(hour, 0) + 1  # Increment hour count\n",
    "\n",
    "        # Sort the dictionary by hour and print\n",
    "        for hour, count in sorted(hours_count.items()):\n",
    "            print(hour, count)\n",
    "\n",
    "except FileNotFoundError:\n",
    "    print(\"Can't find the file:\", name)\n"
   ]
  },
  {
   "cell_type": "markdown",
   "metadata": {},
   "source": [
    "# Key Refinements\n",
    "Removed Redundant List (lst):\n",
    "The list lst was unnecessary because sorting can be done directly on the dictionary items using sorted().\n",
    "\n",
    "Clear Variable Names:\n",
    "Renamed hrs to hours_count for better readability.\n",
    "Changed hr to hour for consistency and clarity.\n",
    "\n",
    "Simplified Sorting and Printing:\n",
    "Used sorted(hours_count.items()) to directly sort the dictionary items by hour.\n",
    "Eliminated the need for creating a temporary list comprehension.\n",
    "\n",
    "Enhanced Readability:\n",
    "Improved comments to explain each step, making the code easier for beginners to follow."
   ]
  },
  {
   "cell_type": "code",
   "execution_count": null,
   "metadata": {},
   "outputs": [
    {
     "name": "stdout",
     "output_type": "stream",
     "text": [
      "04 3\n",
      "06 1\n",
      "07 1\n",
      "09 2\n",
      "10 3\n",
      "11 6\n",
      "14 1\n",
      "15 2\n",
      "16 4\n",
      "17 2\n",
      "18 1\n",
      "19 1\n"
     ]
    }
   ],
   "source": [
    "# My Refind Solution\n",
    "\n",
    "name = input(\"Enter file: \")\n",
    "if not name:\n",
    "    name = \"mbox-short.txt\"\n",
    "\n",
    "try:\n",
    "    with open(name) as handle:\n",
    "        hours_count = {}\n",
    "        for line in handle:\n",
    "            if line.startswith(\"From \"):\n",
    "                timestamp = line.split()[5]\n",
    "                hour = timestamp.split(\":\")[0]\n",
    "                hours_count[hour] = hours_count.get(hour, 0) + 1\n",
    "        # using `for` loop to unpack the tuple and print it\n",
    "        for hour,count in sorted(hours_count.items()):\n",
    "            print(hour,count)\n",
    "\n",
    "except FileNotFoundError:\n",
    "    print(\"Can't find\", name)"
   ]
  }
 ],
 "metadata": {
  "kernelspec": {
   "display_name": "Python 3",
   "language": "python",
   "name": "python3"
  },
  "language_info": {
   "codemirror_mode": {
    "name": "ipython",
    "version": 3
   },
   "file_extension": ".py",
   "mimetype": "text/x-python",
   "name": "python",
   "nbconvert_exporter": "python",
   "pygments_lexer": "ipython3",
   "version": "3.9.6"
  }
 },
 "nbformat": 4,
 "nbformat_minor": 2
}
