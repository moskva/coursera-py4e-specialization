{
 "cells": [
  {
   "cell_type": "markdown",
   "metadata": {},
   "source": [
    "# Exercise 08_04\n",
    "Open the file romeo.txt and read it line by line. For each line, split the line into a list of words using the split() method. The program should build a list of words. For each word on each line check to see if the word is already in the list and if not append it to the list. When the program completes, sort and print the resulting words in python sort() order as shown in the desired output."
   ]
  },
  {
   "cell_type": "code",
   "execution_count": null,
   "metadata": {},
   "outputs": [],
   "source": [
    "# My solution\n",
    "fname = input(\"Enter file name: \")\n",
    "try:\n",
    "    fh = open(fname)\n",
    "except:\n",
    "    print(\"Can't open the file:\", fname)\n",
    "    quit()\n",
    "\n",
    "lst = list()\n",
    "for line in fh:\n",
    "    line = line.rstrip()\n",
    "    words = line.split()\n",
    "    \n",
    "    for word in words:\n",
    "        if word not in lst:\n",
    "            lst.append(word)\n",
    "\n",
    "lst.sort()\n",
    "print(lst)\n",
    "fh.close()"
   ]
  },
  {
   "cell_type": "code",
   "execution_count": null,
   "metadata": {},
   "outputs": [],
   "source": [
    "# Refine by ChatGPT\n",
    "\n",
    "fname = input(\"Enter file name: \")\n",
    "\n",
    "# Attempt to open the file and handle exceptions\n",
    "try:\n",
    "    with open(fname, 'r') as fh:  # Use 'with' for better file handling\n",
    "        words_set = set()  # Use a set to automatically handle duplicates\n",
    "        \n",
    "        # Process each line in the file\n",
    "        for line in fh:\n",
    "            words = line.split()  # Split the line into words\n",
    "            words_set.update(words)  # Add all words to the set\n",
    "\n",
    "    # Convert the set to a sorted list and print it\n",
    "    sorted_words = sorted(words_set)\n",
    "    print(sorted_words)\n",
    "\n",
    "except FileNotFoundError:\n",
    "    print(\"Can't open the file:\", fname)\n"
   ]
  },
  {
   "cell_type": "markdown",
   "metadata": {},
   "source": [
    "# Key Improvements by ChatGPT\n",
    "`with` Statement:\n",
    "Using `with open(...)` ensures that the file is properly closed automatically, even if an error occurs.\n",
    "\n",
    "Use a `set` for Uniqueness:\n",
    "A `set` is ideal for collecting unique items, eliminating the need to check `if word not in lst` manually. This makes the code cleaner and more efficient.\n",
    "\n",
    "Use `set.update()`:\n",
    "Instead of looping through individual words and adding them to the list or set, `set.update()` can add multiple items in one operation.\n",
    "\n",
    "Handle Specific Exceptions:\n",
    "Catching a specific exception like `FileNotFoundError` is more precise than using a generic `except`.\n",
    "\n",
    "Sort and Print:\n",
    "`sorted()` directly sorts the `set` into a new list, making it clear that sorting is a separate operation."
   ]
  }
 ],
 "metadata": {
  "kernelspec": {
   "display_name": "Python 3",
   "language": "python",
   "name": "python3"
  },
  "language_info": {
   "codemirror_mode": {
    "name": "ipython",
    "version": 3
   },
   "file_extension": ".py",
   "mimetype": "text/x-python",
   "name": "python",
   "nbconvert_exporter": "python",
   "pygments_lexer": "ipython3",
   "version": "3.9.6"
  }
 },
 "nbformat": 4,
 "nbformat_minor": 2
}
